{
 "cells": [
  {
   "cell_type": "code",
   "execution_count": 2,
   "metadata": {},
   "outputs": [],
   "source": [
    "import pandas as pd\n",
    "from datetime import datetime"
   ]
  },
  {
   "cell_type": "code",
   "execution_count": 3,
   "metadata": {},
   "outputs": [
    {
     "ename": "FileNotFoundError",
     "evalue": "[Errno 2] No such file or directory: 'Annotation_Sheet.xlsx'",
     "output_type": "error",
     "traceback": [
      "\u001b[0;31m---------------------------------------------------------------------------\u001b[0m",
      "\u001b[0;31mFileNotFoundError\u001b[0m                         Traceback (most recent call last)",
      "\u001b[0;32m<ipython-input-3-4b0aa5001f0c>\u001b[0m in \u001b[0;36m<module>\u001b[0;34m()\u001b[0m\n\u001b[0;32m----> 1\u001b[0;31m \u001b[0mxls\u001b[0m \u001b[0;34m=\u001b[0m \u001b[0mpd\u001b[0m\u001b[0;34m.\u001b[0m\u001b[0mExcelFile\u001b[0m\u001b[0;34m(\u001b[0m\u001b[0;34m'Annotation_Sheet.xlsx'\u001b[0m\u001b[0;34m)\u001b[0m\u001b[0;34m\u001b[0m\u001b[0m\n\u001b[0m\u001b[1;32m      2\u001b[0m \u001b[0;34m\u001b[0m\u001b[0m\n\u001b[1;32m      3\u001b[0m \u001b[0mdfs\u001b[0m \u001b[0;34m=\u001b[0m \u001b[0;34m[\u001b[0m\u001b[0;34m]\u001b[0m\u001b[0;34m\u001b[0m\u001b[0m\n\u001b[1;32m      4\u001b[0m \u001b[0;32mfor\u001b[0m \u001b[0msheet_name\u001b[0m \u001b[0;32min\u001b[0m \u001b[0mxls\u001b[0m\u001b[0;34m.\u001b[0m\u001b[0msheet_names\u001b[0m\u001b[0;34m:\u001b[0m\u001b[0;34m\u001b[0m\u001b[0m\n\u001b[1;32m      5\u001b[0m     \u001b[0mdf\u001b[0m \u001b[0;34m=\u001b[0m \u001b[0mpd\u001b[0m\u001b[0;34m.\u001b[0m\u001b[0mread_excel\u001b[0m\u001b[0;34m(\u001b[0m\u001b[0;34m'Annotation_Sheet.xlsx'\u001b[0m\u001b[0;34m,\u001b[0m \u001b[0msheetname\u001b[0m\u001b[0;34m=\u001b[0m\u001b[0msheet_name\u001b[0m\u001b[0;34m)\u001b[0m\u001b[0;34m\u001b[0m\u001b[0m\n",
      "\u001b[0;32m/usr/lib/python3/dist-packages/pandas/io/excel.py\u001b[0m in \u001b[0;36m__init__\u001b[0;34m(self, io, **kwds)\u001b[0m\n\u001b[1;32m    204\u001b[0m                 \u001b[0mself\u001b[0m\u001b[0;34m.\u001b[0m\u001b[0mbook\u001b[0m \u001b[0;34m=\u001b[0m \u001b[0mxlrd\u001b[0m\u001b[0;34m.\u001b[0m\u001b[0mopen_workbook\u001b[0m\u001b[0;34m(\u001b[0m\u001b[0mfile_contents\u001b[0m\u001b[0;34m=\u001b[0m\u001b[0mdata\u001b[0m\u001b[0;34m)\u001b[0m\u001b[0;34m\u001b[0m\u001b[0m\n\u001b[1;32m    205\u001b[0m             \u001b[0;32melse\u001b[0m\u001b[0;34m:\u001b[0m\u001b[0;34m\u001b[0m\u001b[0m\n\u001b[0;32m--> 206\u001b[0;31m                 \u001b[0mself\u001b[0m\u001b[0;34m.\u001b[0m\u001b[0mbook\u001b[0m \u001b[0;34m=\u001b[0m \u001b[0mxlrd\u001b[0m\u001b[0;34m.\u001b[0m\u001b[0mopen_workbook\u001b[0m\u001b[0;34m(\u001b[0m\u001b[0mio\u001b[0m\u001b[0;34m)\u001b[0m\u001b[0;34m\u001b[0m\u001b[0m\n\u001b[0m\u001b[1;32m    207\u001b[0m         \u001b[0;32melif\u001b[0m \u001b[0mengine\u001b[0m \u001b[0;34m==\u001b[0m \u001b[0;34m'xlrd'\u001b[0m \u001b[0;32mand\u001b[0m \u001b[0misinstance\u001b[0m\u001b[0;34m(\u001b[0m\u001b[0mio\u001b[0m\u001b[0;34m,\u001b[0m \u001b[0mxlrd\u001b[0m\u001b[0;34m.\u001b[0m\u001b[0mBook\u001b[0m\u001b[0;34m)\u001b[0m\u001b[0;34m:\u001b[0m\u001b[0;34m\u001b[0m\u001b[0m\n\u001b[1;32m    208\u001b[0m             \u001b[0mself\u001b[0m\u001b[0;34m.\u001b[0m\u001b[0mbook\u001b[0m \u001b[0;34m=\u001b[0m \u001b[0mio\u001b[0m\u001b[0;34m\u001b[0m\u001b[0m\n",
      "\u001b[0;32m/usr/local/lib/python3.5/dist-packages/xlrd/__init__.py\u001b[0m in \u001b[0;36mopen_workbook\u001b[0;34m(filename, logfile, verbosity, use_mmap, file_contents, encoding_override, formatting_info, on_demand, ragged_rows)\u001b[0m\n\u001b[1;32m    114\u001b[0m         \u001b[0mpeek\u001b[0m \u001b[0;34m=\u001b[0m \u001b[0mfile_contents\u001b[0m\u001b[0;34m[\u001b[0m\u001b[0;34m:\u001b[0m\u001b[0mpeeksz\u001b[0m\u001b[0;34m]\u001b[0m\u001b[0;34m\u001b[0m\u001b[0m\n\u001b[1;32m    115\u001b[0m     \u001b[0;32melse\u001b[0m\u001b[0;34m:\u001b[0m\u001b[0;34m\u001b[0m\u001b[0m\n\u001b[0;32m--> 116\u001b[0;31m         \u001b[0;32mwith\u001b[0m \u001b[0mopen\u001b[0m\u001b[0;34m(\u001b[0m\u001b[0mfilename\u001b[0m\u001b[0;34m,\u001b[0m \u001b[0;34m\"rb\"\u001b[0m\u001b[0;34m)\u001b[0m \u001b[0;32mas\u001b[0m \u001b[0mf\u001b[0m\u001b[0;34m:\u001b[0m\u001b[0;34m\u001b[0m\u001b[0m\n\u001b[0m\u001b[1;32m    117\u001b[0m             \u001b[0mpeek\u001b[0m \u001b[0;34m=\u001b[0m \u001b[0mf\u001b[0m\u001b[0;34m.\u001b[0m\u001b[0mread\u001b[0m\u001b[0;34m(\u001b[0m\u001b[0mpeeksz\u001b[0m\u001b[0;34m)\u001b[0m\u001b[0;34m\u001b[0m\u001b[0m\n\u001b[1;32m    118\u001b[0m     \u001b[0;32mif\u001b[0m \u001b[0mpeek\u001b[0m \u001b[0;34m==\u001b[0m \u001b[0;34mb\"PK\\x03\\x04\"\u001b[0m\u001b[0;34m:\u001b[0m \u001b[0;31m# a ZIP file\u001b[0m\u001b[0;34m\u001b[0m\u001b[0m\n",
      "\u001b[0;31mFileNotFoundError\u001b[0m: [Errno 2] No such file or directory: 'Annotation_Sheet.xlsx'"
     ]
    }
   ],
   "source": [
    "xls = pd.ExcelFile('Annotation_Sheet.xlsx')\n",
    "\n",
    "dfs = []\n",
    "for sheet_name in xls.sheet_names:\n",
    "    df = pd.read_excel('Annotation_Sheet.xlsx', sheetname=sheet_name)\n",
    "    dfs.append(df)\n",
    "    \n",
    "annotation = pd.concat(dfs, join='inner')"
   ]
  },
  {
   "cell_type": "code",
   "execution_count": 4,
   "metadata": {},
   "outputs": [
    {
     "ename": "NameError",
     "evalue": "name 'annotation' is not defined",
     "output_type": "error",
     "traceback": [
      "\u001b[0;31m---------------------------------------------------------------------------\u001b[0m",
      "\u001b[0;31mNameError\u001b[0m                                 Traceback (most recent call last)",
      "\u001b[0;32m<ipython-input-4-d952fa9cb849>\u001b[0m in \u001b[0;36m<module>\u001b[0;34m()\u001b[0m\n\u001b[0;32m----> 1\u001b[0;31m \u001b[0mannotation\u001b[0m\u001b[0;34m.\u001b[0m\u001b[0mshape\u001b[0m\u001b[0;34m\u001b[0m\u001b[0m\n\u001b[0m",
      "\u001b[0;31mNameError\u001b[0m: name 'annotation' is not defined"
     ]
    }
   ],
   "source": [
    "annotation.shape"
   ]
  },
  {
   "cell_type": "code",
   "execution_count": 4,
   "metadata": {},
   "outputs": [],
   "source": [
    "def addvalues(val,data):\n",
    "    if (val.empty):\n",
    "        print(1)\n",
    "    else:\n",
    "        d = pd.DataFrame(val)\n",
    "        data = data.append(d)\n",
    "    return data"
   ]
  },
  {
   "cell_type": "code",
   "execution_count": 5,
   "metadata": {},
   "outputs": [
    {
     "data": {
      "text/plain": [
       "(9, 15)"
      ]
     },
     "execution_count": 5,
     "metadata": {},
     "output_type": "execute_result"
    }
   ],
   "source": [
    "data = annotation[annotation[\"ParticipantID\"].isnull()]\n",
    "data.shape"
   ]
  },
  {
   "cell_type": "code",
   "execution_count": 1,
   "metadata": {},
   "outputs": [
    {
     "ename": "NameError",
     "evalue": "name 'annotation' is not defined",
     "output_type": "error",
     "traceback": [
      "\u001b[0;31m---------------------------------------------------------------------------\u001b[0m",
      "\u001b[0;31mNameError\u001b[0m                                 Traceback (most recent call last)",
      "\u001b[0;32m<ipython-input-1-99cfc2adf3c2>\u001b[0m in \u001b[0;36m<module>\u001b[0;34m()\u001b[0m\n\u001b[1;32m      1\u001b[0m \u001b[0;31m#Adding the Start time and end time of the clips as new names with date\u001b[0m\u001b[0;34m\u001b[0m\u001b[0;34m\u001b[0m\u001b[0m\n\u001b[0;32m----> 2\u001b[0;31m \u001b[0mval\u001b[0m \u001b[0;34m=\u001b[0m \u001b[0mannotation\u001b[0m\u001b[0;34m[\u001b[0m\u001b[0mannotation\u001b[0m\u001b[0;34m[\u001b[0m\u001b[0;34m\"Date\"\u001b[0m\u001b[0;34m]\u001b[0m\u001b[0;34m.\u001b[0m\u001b[0misnull\u001b[0m\u001b[0;34m(\u001b[0m\u001b[0;34m)\u001b[0m\u001b[0;34m]\u001b[0m\u001b[0;34m\u001b[0m\u001b[0m\n\u001b[0m\u001b[1;32m      3\u001b[0m \u001b[0mdata\u001b[0m \u001b[0;34m=\u001b[0m \u001b[0maddvalues\u001b[0m\u001b[0;34m(\u001b[0m\u001b[0mval\u001b[0m\u001b[0;34m,\u001b[0m\u001b[0mdata\u001b[0m\u001b[0;34m)\u001b[0m\u001b[0;34m\u001b[0m\u001b[0m\n\u001b[1;32m      4\u001b[0m \u001b[0mdata\u001b[0m\u001b[0;34m.\u001b[0m\u001b[0mshape\u001b[0m\u001b[0;34m\u001b[0m\u001b[0m\n\u001b[1;32m      5\u001b[0m \u001b[0mprint\u001b[0m\u001b[0;34m(\u001b[0m\u001b[0mdata\u001b[0m\u001b[0;34m)\u001b[0m\u001b[0;34m\u001b[0m\u001b[0m\n",
      "\u001b[0;31mNameError\u001b[0m: name 'annotation' is not defined"
     ]
    }
   ],
   "source": [
    "#Adding the Start time and end time of the clips as new names with date\n",
    "val = annotation[annotation[\"Date\"].isnull()]\n",
    "data = addvalues(val,data)\n",
    "data.shape\n",
    "print(data)"
   ]
  },
  {
   "cell_type": "code",
   "execution_count": 7,
   "metadata": {},
   "outputs": [
    {
     "data": {
      "text/plain": [
       "(10, 15)"
      ]
     },
     "execution_count": 7,
     "metadata": {},
     "output_type": "execute_result"
    }
   ],
   "source": [
    "data.shape"
   ]
  },
  {
   "cell_type": "code",
   "execution_count": 8,
   "metadata": {},
   "outputs": [
    {
     "data": {
      "text/plain": [
       "(11, 15)"
      ]
     },
     "execution_count": 8,
     "metadata": {},
     "output_type": "execute_result"
    }
   ],
   "source": [
    "val = annotation[annotation[\"StartClock\"].isnull()]\n",
    "data = addvalues(val,data)\n",
    "data.shape"
   ]
  },
  {
   "cell_type": "code",
   "execution_count": 9,
   "metadata": {},
   "outputs": [
    {
     "data": {
      "text/plain": [
       "(12, 15)"
      ]
     },
     "execution_count": 9,
     "metadata": {},
     "output_type": "execute_result"
    }
   ],
   "source": [
    "val = annotation[annotation[\"EndClock\"].isnull()]\n",
    "data = addvalues(val,data)\n",
    "data.shape"
   ]
  },
  {
   "cell_type": "code",
   "execution_count": 10,
   "metadata": {},
   "outputs": [
    {
     "name": "stdout",
     "output_type": "stream",
     "text": [
      "(4294, 17)\n"
     ]
    }
   ],
   "source": [
    "annotation = annotation[annotation[\"Date\"].notnull()]\n",
    "annotation = annotation[annotation[\"StartClock\"].notnull()]\n",
    "annotation = annotation[annotation[\"EndClock\"].notnull()]\n",
    "annotation['DateStartTimeClock'] = pd.to_datetime(annotation['Date'].apply(str)+' '+annotation['StartClock'].apply(str))\n",
    "annotation['DateEndTimeClock'] = pd.to_datetime(annotation['Date'].apply(str)+' '+annotation['EndClock'].apply(str))\n",
    "print(annotation.shape)"
   ]
  },
  {
   "cell_type": "code",
   "execution_count": 11,
   "metadata": {},
   "outputs": [
    {
     "data": {
      "text/plain": [
       "ParticipantID                  25\n",
       "Accel_Waist                    25\n",
       "Accel_Wrist                    25\n",
       "Date                           25\n",
       "Sequence                       25\n",
       "VideoName                      12\n",
       "VideoStartClock_camera         12\n",
       "VideoStartClock_timeanddate    12\n",
       "StartRunTime                   25\n",
       "EndRunTime                     25\n",
       "StartClock                     25\n",
       "EndClock                       25\n",
       "ActivityLevel1                 25\n",
       "ActivityLevel2                 25\n",
       "ActivityLevel3                 25\n",
       "DateStartTimeClock             25\n",
       "DateEndTimeClock               25\n",
       "dtype: int64"
      ]
     },
     "execution_count": 11,
     "metadata": {},
     "output_type": "execute_result"
    }
   ],
   "source": [
    "annotation[annotation[\"ActivityLevel1\"]==999].count()"
   ]
  },
  {
   "cell_type": "code",
   "execution_count": 12,
   "metadata": {},
   "outputs": [
    {
     "data": {
      "text/html": [
       "<div>\n",
       "<table border=\"1\" class=\"dataframe\">\n",
       "  <thead>\n",
       "    <tr style=\"text-align: right;\">\n",
       "      <th></th>\n",
       "      <th>ParticipantID</th>\n",
       "      <th>Accel_Waist</th>\n",
       "      <th>Accel_Wrist</th>\n",
       "      <th>Date</th>\n",
       "      <th>Sequence</th>\n",
       "      <th>VideoName</th>\n",
       "      <th>VideoStartClock_camera</th>\n",
       "      <th>VideoStartClock_timeanddate</th>\n",
       "      <th>StartRunTime</th>\n",
       "      <th>EndRunTime</th>\n",
       "      <th>StartClock</th>\n",
       "      <th>EndClock</th>\n",
       "      <th>ActivityLevel1</th>\n",
       "      <th>ActivityLevel2</th>\n",
       "      <th>ActivityLevel3</th>\n",
       "      <th>DateStartTimeClock</th>\n",
       "      <th>DateEndTimeClock</th>\n",
       "    </tr>\n",
       "  </thead>\n",
       "  <tbody>\n",
       "    <tr>\n",
       "      <th>0</th>\n",
       "      <td>101</td>\n",
       "      <td>101_waist</td>\n",
       "      <td>101_wrist</td>\n",
       "      <td>2018-01-18</td>\n",
       "      <td>1</td>\n",
       "      <td>101_video1</td>\n",
       "      <td>NaN</td>\n",
       "      <td>NaN</td>\n",
       "      <td>00:00:00</td>\n",
       "      <td>00:00:15</td>\n",
       "      <td>16:07:40</td>\n",
       "      <td>16:07:55</td>\n",
       "      <td>999</td>\n",
       "      <td>999</td>\n",
       "      <td>999</td>\n",
       "      <td>2018-01-18 16:07:40</td>\n",
       "      <td>2018-01-18 16:07:55</td>\n",
       "    </tr>\n",
       "    <tr>\n",
       "      <th>0</th>\n",
       "      <td>102</td>\n",
       "      <td>102_waist</td>\n",
       "      <td>102_wrist</td>\n",
       "      <td>2018-01-19</td>\n",
       "      <td>1</td>\n",
       "      <td>NaN</td>\n",
       "      <td>NaN</td>\n",
       "      <td>NaN</td>\n",
       "      <td>00:00:00</td>\n",
       "      <td>00:00:15</td>\n",
       "      <td>12:25:20</td>\n",
       "      <td>12:25:35</td>\n",
       "      <td>999</td>\n",
       "      <td>999</td>\n",
       "      <td>999</td>\n",
       "      <td>2018-01-19 12:25:20</td>\n",
       "      <td>2018-01-19 12:25:35</td>\n",
       "    </tr>\n",
       "    <tr>\n",
       "      <th>0</th>\n",
       "      <td>103</td>\n",
       "      <td>103_waist</td>\n",
       "      <td>103_wrist</td>\n",
       "      <td>2018-01-22</td>\n",
       "      <td>1</td>\n",
       "      <td>NaN</td>\n",
       "      <td>NaN</td>\n",
       "      <td>NaN</td>\n",
       "      <td>14:15:45</td>\n",
       "      <td>14:16:00</td>\n",
       "      <td>14:15:45</td>\n",
       "      <td>14:16:00</td>\n",
       "      <td>999</td>\n",
       "      <td>999</td>\n",
       "      <td>999</td>\n",
       "      <td>2018-01-22 14:15:45</td>\n",
       "      <td>2018-01-22 14:16:00</td>\n",
       "    </tr>\n",
       "    <tr>\n",
       "      <th>0</th>\n",
       "      <td>104</td>\n",
       "      <td>104_waist</td>\n",
       "      <td>104_wrist</td>\n",
       "      <td>2018-01-22</td>\n",
       "      <td>1</td>\n",
       "      <td>NaN</td>\n",
       "      <td>15:03:38</td>\n",
       "      <td>14:56:45</td>\n",
       "      <td>00:00:00</td>\n",
       "      <td>00:00:15</td>\n",
       "      <td>14:56:45</td>\n",
       "      <td>14:57:00</td>\n",
       "      <td>999</td>\n",
       "      <td>999</td>\n",
       "      <td>999</td>\n",
       "      <td>2018-01-22 14:56:45</td>\n",
       "      <td>2018-01-22 14:57:00</td>\n",
       "    </tr>\n",
       "    <tr>\n",
       "      <th>0</th>\n",
       "      <td>105</td>\n",
       "      <td>105_waist</td>\n",
       "      <td>105_wrist</td>\n",
       "      <td>2018-01-29</td>\n",
       "      <td>1</td>\n",
       "      <td>NaN</td>\n",
       "      <td>NaN</td>\n",
       "      <td>NaN</td>\n",
       "      <td>00:00:00</td>\n",
       "      <td>00:00:15</td>\n",
       "      <td>14:34:15</td>\n",
       "      <td>14:34:30</td>\n",
       "      <td>999</td>\n",
       "      <td>999</td>\n",
       "      <td>999</td>\n",
       "      <td>2018-01-29 14:34:15</td>\n",
       "      <td>2018-01-29 14:34:30</td>\n",
       "    </tr>\n",
       "  </tbody>\n",
       "</table>\n",
       "</div>"
      ],
      "text/plain": [
       "   ParticipantID Accel_Waist Accel_Wrist       Date  Sequence   VideoName  \\\n",
       "0            101   101_waist   101_wrist 2018-01-18         1  101_video1   \n",
       "0            102   102_waist   102_wrist 2018-01-19         1         NaN   \n",
       "0            103   103_waist   103_wrist 2018-01-22         1         NaN   \n",
       "0            104   104_waist   104_wrist 2018-01-22         1         NaN   \n",
       "0            105   105_waist   105_wrist 2018-01-29         1         NaN   \n",
       "\n",
       "  VideoStartClock_camera VideoStartClock_timeanddate StartRunTime EndRunTime  \\\n",
       "0                    NaN                         NaN     00:00:00   00:00:15   \n",
       "0                    NaN                         NaN     00:00:00   00:00:15   \n",
       "0                    NaN                         NaN     14:15:45   14:16:00   \n",
       "0               15:03:38                    14:56:45     00:00:00   00:00:15   \n",
       "0                    NaN                         NaN     00:00:00   00:00:15   \n",
       "\n",
       "  StartClock  EndClock  ActivityLevel1  ActivityLevel2  ActivityLevel3  \\\n",
       "0   16:07:40  16:07:55             999             999             999   \n",
       "0   12:25:20  12:25:35             999             999             999   \n",
       "0   14:15:45  14:16:00             999             999             999   \n",
       "0   14:56:45  14:57:00             999             999             999   \n",
       "0   14:34:15  14:34:30             999             999             999   \n",
       "\n",
       "   DateStartTimeClock    DateEndTimeClock  \n",
       "0 2018-01-18 16:07:40 2018-01-18 16:07:55  \n",
       "0 2018-01-19 12:25:20 2018-01-19 12:25:35  \n",
       "0 2018-01-22 14:15:45 2018-01-22 14:16:00  \n",
       "0 2018-01-22 14:56:45 2018-01-22 14:57:00  \n",
       "0 2018-01-29 14:34:15 2018-01-29 14:34:30  "
      ]
     },
     "execution_count": 12,
     "metadata": {},
     "output_type": "execute_result"
    }
   ],
   "source": [
    "val = annotation[annotation[\"ActivityLevel1\"]==999]\n",
    "val.head()"
   ]
  },
  {
   "cell_type": "code",
   "execution_count": 13,
   "metadata": {},
   "outputs": [],
   "source": [
    "data = addvalues(val,data)"
   ]
  },
  {
   "cell_type": "code",
   "execution_count": 14,
   "metadata": {},
   "outputs": [
    {
     "data": {
      "text/plain": [
       "(37, 17)"
      ]
     },
     "execution_count": 14,
     "metadata": {},
     "output_type": "execute_result"
    }
   ],
   "source": [
    "data.shape"
   ]
  },
  {
   "cell_type": "code",
   "execution_count": 15,
   "metadata": {},
   "outputs": [
    {
     "data": {
      "text/html": [
       "<div>\n",
       "<table border=\"1\" class=\"dataframe\">\n",
       "  <thead>\n",
       "    <tr style=\"text-align: right;\">\n",
       "      <th></th>\n",
       "      <th>Accel_Waist</th>\n",
       "      <th>Accel_Wrist</th>\n",
       "      <th>ActivityLevel1</th>\n",
       "      <th>ActivityLevel2</th>\n",
       "      <th>ActivityLevel3</th>\n",
       "      <th>Date</th>\n",
       "      <th>DateEndTimeClock</th>\n",
       "      <th>DateStartTimeClock</th>\n",
       "      <th>EndClock</th>\n",
       "      <th>EndRunTime</th>\n",
       "      <th>ParticipantID</th>\n",
       "      <th>Sequence</th>\n",
       "      <th>StartClock</th>\n",
       "      <th>StartRunTime</th>\n",
       "      <th>VideoName</th>\n",
       "      <th>VideoStartClock_camera</th>\n",
       "      <th>VideoStartClock_timeanddate</th>\n",
       "    </tr>\n",
       "  </thead>\n",
       "  <tbody>\n",
       "    <tr>\n",
       "      <th>257</th>\n",
       "      <td>NaN</td>\n",
       "      <td>NaN</td>\n",
       "      <td>NaN</td>\n",
       "      <td>NaN</td>\n",
       "      <td>NaN</td>\n",
       "      <td>NaT</td>\n",
       "      <td>NaT</td>\n",
       "      <td>NaT</td>\n",
       "      <td>NaN</td>\n",
       "      <td>NaN</td>\n",
       "      <td>NaN</td>\n",
       "      <td>NaN</td>\n",
       "      <td>NaN</td>\n",
       "      <td>NaN</td>\n",
       "      <td>NaN</td>\n",
       "      <td>NaN</td>\n",
       "      <td>NaN</td>\n",
       "    </tr>\n",
       "    <tr>\n",
       "      <th>67</th>\n",
       "      <td>120_waist</td>\n",
       "      <td>120_wrist</td>\n",
       "      <td>1</td>\n",
       "      <td>20</td>\n",
       "      <td>206</td>\n",
       "      <td>2018-03-20</td>\n",
       "      <td>NaT</td>\n",
       "      <td>NaT</td>\n",
       "      <td>10:42:54</td>\n",
       "      <td>00:01:09</td>\n",
       "      <td>NaN</td>\n",
       "      <td>68</td>\n",
       "      <td>10:42:52</td>\n",
       "      <td>00:01:07</td>\n",
       "      <td>120_video2</td>\n",
       "      <td>10:42:13</td>\n",
       "      <td>10:41:45</td>\n",
       "    </tr>\n",
       "    <tr>\n",
       "      <th>68</th>\n",
       "      <td>120_waist</td>\n",
       "      <td>120_wrist</td>\n",
       "      <td>1</td>\n",
       "      <td>10</td>\n",
       "      <td>103</td>\n",
       "      <td>2018-03-20</td>\n",
       "      <td>NaT</td>\n",
       "      <td>NaT</td>\n",
       "      <td>10:43:00</td>\n",
       "      <td>00:01:15</td>\n",
       "      <td>NaN</td>\n",
       "      <td>69</td>\n",
       "      <td>10:42:54</td>\n",
       "      <td>00:01:09</td>\n",
       "      <td>120_video2</td>\n",
       "      <td>10:42:13</td>\n",
       "      <td>10:41:45</td>\n",
       "    </tr>\n",
       "    <tr>\n",
       "      <th>69</th>\n",
       "      <td>120_waist</td>\n",
       "      <td>120_wrist</td>\n",
       "      <td>1</td>\n",
       "      <td>20</td>\n",
       "      <td>205</td>\n",
       "      <td>2018-03-20</td>\n",
       "      <td>NaT</td>\n",
       "      <td>NaT</td>\n",
       "      <td>10:43:01</td>\n",
       "      <td>00:01:16</td>\n",
       "      <td>NaN</td>\n",
       "      <td>70</td>\n",
       "      <td>10:43:00</td>\n",
       "      <td>00:01:15</td>\n",
       "      <td>120_video2</td>\n",
       "      <td>10:42:13</td>\n",
       "      <td>10:41:45</td>\n",
       "    </tr>\n",
       "    <tr>\n",
       "      <th>70</th>\n",
       "      <td>120_waist</td>\n",
       "      <td>120_wrist</td>\n",
       "      <td>1</td>\n",
       "      <td>20</td>\n",
       "      <td>203</td>\n",
       "      <td>2018-03-20</td>\n",
       "      <td>NaT</td>\n",
       "      <td>NaT</td>\n",
       "      <td>10:43:07</td>\n",
       "      <td>00:01:22</td>\n",
       "      <td>NaN</td>\n",
       "      <td>71</td>\n",
       "      <td>10:43:01</td>\n",
       "      <td>00:01:16</td>\n",
       "      <td>120_video2</td>\n",
       "      <td>10:42:13</td>\n",
       "      <td>10:41:45</td>\n",
       "    </tr>\n",
       "  </tbody>\n",
       "</table>\n",
       "</div>"
      ],
      "text/plain": [
       "    Accel_Waist Accel_Wrist  ActivityLevel1  ActivityLevel2  ActivityLevel3  \\\n",
       "257         NaN         NaN             NaN             NaN             NaN   \n",
       "67    120_waist   120_wrist               1              20             206   \n",
       "68    120_waist   120_wrist               1              10             103   \n",
       "69    120_waist   120_wrist               1              20             205   \n",
       "70    120_waist   120_wrist               1              20             203   \n",
       "\n",
       "          Date DateEndTimeClock DateStartTimeClock  EndClock EndRunTime  \\\n",
       "257        NaT              NaT                NaT       NaN        NaN   \n",
       "67  2018-03-20              NaT                NaT  10:42:54   00:01:09   \n",
       "68  2018-03-20              NaT                NaT  10:43:00   00:01:15   \n",
       "69  2018-03-20              NaT                NaT  10:43:01   00:01:16   \n",
       "70  2018-03-20              NaT                NaT  10:43:07   00:01:22   \n",
       "\n",
       "     ParticipantID  Sequence StartClock StartRunTime   VideoName  \\\n",
       "257            NaN       NaN        NaN          NaN         NaN   \n",
       "67             NaN        68   10:42:52     00:01:07  120_video2   \n",
       "68             NaN        69   10:42:54     00:01:09  120_video2   \n",
       "69             NaN        70   10:43:00     00:01:15  120_video2   \n",
       "70             NaN        71   10:43:01     00:01:16  120_video2   \n",
       "\n",
       "    VideoStartClock_camera VideoStartClock_timeanddate  \n",
       "257                    NaN                         NaN  \n",
       "67                10:42:13                    10:41:45  \n",
       "68                10:42:13                    10:41:45  \n",
       "69                10:42:13                    10:41:45  \n",
       "70                10:42:13                    10:41:45  "
      ]
     },
     "execution_count": 15,
     "metadata": {},
     "output_type": "execute_result"
    }
   ],
   "source": [
    "data.head()"
   ]
  },
  {
   "cell_type": "code",
   "execution_count": 16,
   "metadata": {},
   "outputs": [
    {
     "data": {
      "text/plain": [
       "(62, 17)"
      ]
     },
     "execution_count": 16,
     "metadata": {},
     "output_type": "execute_result"
    }
   ],
   "source": [
    "val = annotation[annotation[\"ActivityLevel2\"]==999]\n",
    "data = addvalues(val,data)\n",
    "data.shape"
   ]
  },
  {
   "cell_type": "code",
   "execution_count": 17,
   "metadata": {},
   "outputs": [
    {
     "data": {
      "text/plain": [
       "(87, 17)"
      ]
     },
     "execution_count": 17,
     "metadata": {},
     "output_type": "execute_result"
    }
   ],
   "source": [
    "val = annotation[annotation[\"ActivityLevel3\"]==999]\n",
    "data = addvalues(val,data)\n",
    "data.shape"
   ]
  },
  {
   "cell_type": "code",
   "execution_count": 18,
   "metadata": {},
   "outputs": [
    {
     "data": {
      "text/plain": [
       "(90, 17)"
      ]
     },
     "execution_count": 18,
     "metadata": {},
     "output_type": "execute_result"
    }
   ],
   "source": [
    "val = annotation[annotation[\"ActivityLevel1\"].isnull()]\n",
    "data = addvalues(val,data)\n",
    "data.shape"
   ]
  },
  {
   "cell_type": "code",
   "execution_count": 19,
   "metadata": {},
   "outputs": [
    {
     "data": {
      "text/plain": [
       "(93, 17)"
      ]
     },
     "execution_count": 19,
     "metadata": {},
     "output_type": "execute_result"
    }
   ],
   "source": [
    "val = annotation[annotation[\"ActivityLevel2\"].isnull()]\n",
    "data = addvalues(val,data)\n",
    "data.shape"
   ]
  },
  {
   "cell_type": "code",
   "execution_count": 20,
   "metadata": {},
   "outputs": [
    {
     "data": {
      "text/plain": [
       "(195, 17)"
      ]
     },
     "execution_count": 20,
     "metadata": {},
     "output_type": "execute_result"
    }
   ],
   "source": [
    "val = annotation[annotation[\"ActivityLevel3\"].isnull()]\n",
    "data = addvalues(val,data)\n",
    "data.shape"
   ]
  },
  {
   "cell_type": "code",
   "execution_count": 21,
   "metadata": {},
   "outputs": [
    {
     "data": {
      "text/plain": [
       "(197, 17)"
      ]
     },
     "execution_count": 21,
     "metadata": {},
     "output_type": "execute_result"
    }
   ],
   "source": [
    "val = annotation.loc[annotation.ActivityLevel1 == 3]\n",
    "data = addvalues(val,data)\n",
    "data.shape"
   ]
  },
  {
   "cell_type": "code",
   "execution_count": 22,
   "metadata": {},
   "outputs": [
    {
     "data": {
      "text/plain": [
       "(199, 17)"
      ]
     },
     "execution_count": 22,
     "metadata": {},
     "output_type": "execute_result"
    }
   ],
   "source": [
    "val = annotation.loc[annotation.ActivityLevel2 == 2]\n",
    "data = addvalues(val,data)\n",
    "data.shape"
   ]
  },
  {
   "cell_type": "code",
   "execution_count": 23,
   "metadata": {},
   "outputs": [
    {
     "data": {
      "text/plain": [
       "(200, 17)"
      ]
     },
     "execution_count": 23,
     "metadata": {},
     "output_type": "execute_result"
    }
   ],
   "source": [
    "val = annotation.loc[annotation.ActivityLevel3 == 207]\n",
    "data = addvalues(val,data)\n",
    "data.shape"
   ]
  },
  {
   "cell_type": "code",
   "execution_count": 24,
   "metadata": {},
   "outputs": [
    {
     "data": {
      "text/plain": [
       "(204, 17)"
      ]
     },
     "execution_count": 24,
     "metadata": {},
     "output_type": "execute_result"
    }
   ],
   "source": [
    "val = annotation.loc[((annotation.ActivityLevel1 == 1) & (annotation.ActivityLevel2 == 30))]\n",
    "data = addvalues(val,data)\n",
    "data.shape"
   ]
  },
  {
   "cell_type": "code",
   "execution_count": 25,
   "metadata": {},
   "outputs": [
    {
     "data": {
      "text/plain": [
       "(205, 17)"
      ]
     },
     "execution_count": 25,
     "metadata": {},
     "output_type": "execute_result"
    }
   ],
   "source": [
    "val = annotation.loc[((annotation.ActivityLevel1 == 2) & (annotation.ActivityLevel2 == 10))]\n",
    "data = addvalues(val,data)\n",
    "data.shape"
   ]
  },
  {
   "cell_type": "code",
   "execution_count": 26,
   "metadata": {},
   "outputs": [
    {
     "data": {
      "text/plain": [
       "(289, 17)"
      ]
     },
     "execution_count": 26,
     "metadata": {},
     "output_type": "execute_result"
    }
   ],
   "source": [
    "val = annotation[(annotation.ActivityLevel1 == 2) & (annotation.ActivityLevel2 == 20) & (annotation.ActivityLevel3.isin([201,202,203,204,205,206]))]\n",
    "data = addvalues(val,data)\n",
    "data.shape"
   ]
  },
  {
   "cell_type": "code",
   "execution_count": 27,
   "metadata": {},
   "outputs": [
    {
     "name": "stdout",
     "output_type": "stream",
     "text": [
      "1\n"
     ]
    },
    {
     "data": {
      "text/plain": [
       "(289, 17)"
      ]
     },
     "execution_count": 27,
     "metadata": {},
     "output_type": "execute_result"
    }
   ],
   "source": [
    "val = annotation.loc[((annotation.ActivityLevel1 == 2) & (annotation.ActivityLevel2 == 20) & (annotation.ActivityLevel3.isin([307])))]\n",
    "data = addvalues(val,data)\n",
    "data.shape"
   ]
  },
  {
   "cell_type": "code",
   "execution_count": 28,
   "metadata": {},
   "outputs": [
    {
     "data": {
      "text/plain": [
       "(290, 17)"
      ]
     },
     "execution_count": 28,
     "metadata": {},
     "output_type": "execute_result"
    }
   ],
   "source": [
    "val = annotation.loc[((annotation.ActivityLevel1 == 2) & (annotation.ActivityLevel2 == 20) & (annotation.ActivityLevel3.isin([301])))]\n",
    "data = addvalues(val,data)\n",
    "data.shape\n"
   ]
  },
  {
   "cell_type": "code",
   "execution_count": 29,
   "metadata": {},
   "outputs": [
    {
     "data": {
      "text/plain": [
       "(304, 17)"
      ]
     },
     "execution_count": 29,
     "metadata": {},
     "output_type": "execute_result"
    }
   ],
   "source": [
    "val = annotation.loc[((annotation.ActivityLevel2 == 10) & (annotation.ActivityLevel1 == 1) & (annotation.ActivityLevel3.isin([201,202,203,204,205,206,301,302,303,304,305,306,307])))]\n",
    "data = addvalues(val,data)\n",
    "data.shape\n"
   ]
  },
  {
   "cell_type": "code",
   "execution_count": 30,
   "metadata": {},
   "outputs": [
    {
     "data": {
      "text/plain": [
       "(344, 17)"
      ]
     },
     "execution_count": 30,
     "metadata": {},
     "output_type": "execute_result"
    }
   ],
   "source": [
    "val = annotation.loc[((annotation.ActivityLevel1 == 1) & (annotation.ActivityLevel2 == 20) & (annotation.ActivityLevel3.isin([101,102,103,104,105,106,107,301,302,303,304,305,306,307])))]\n",
    "data = addvalues(val,data)\n",
    "data.shape"
   ]
  },
  {
   "cell_type": "code",
   "execution_count": 31,
   "metadata": {},
   "outputs": [
    {
     "data": {
      "text/plain": [
       "(344, 17)"
      ]
     },
     "execution_count": 31,
     "metadata": {},
     "output_type": "execute_result"
    }
   ],
   "source": [
    "data = data.reset_index(drop=True)\n",
    "data.shape"
   ]
  },
  {
   "cell_type": "code",
   "execution_count": 32,
   "metadata": {},
   "outputs": [
    {
     "data": {
      "text/html": [
       "<div>\n",
       "<table border=\"1\" class=\"dataframe\">\n",
       "  <thead>\n",
       "    <tr style=\"text-align: right;\">\n",
       "      <th></th>\n",
       "      <th>ParticipantID</th>\n",
       "      <th>Accel_Waist</th>\n",
       "      <th>Accel_Wrist</th>\n",
       "      <th>Date</th>\n",
       "      <th>Sequence</th>\n",
       "      <th>VideoName</th>\n",
       "      <th>VideoStartClock_camera</th>\n",
       "      <th>VideoStartClock_timeanddate</th>\n",
       "      <th>StartRunTime</th>\n",
       "      <th>EndRunTime</th>\n",
       "      <th>StartClock</th>\n",
       "      <th>EndClock</th>\n",
       "      <th>ActivityLevel1</th>\n",
       "      <th>ActivityLevel2</th>\n",
       "      <th>ActivityLevel3</th>\n",
       "      <th>DateStartTimeClock</th>\n",
       "      <th>DateEndTimeClock</th>\n",
       "      <th>timedelta</th>\n",
       "    </tr>\n",
       "  </thead>\n",
       "  <tbody>\n",
       "    <tr>\n",
       "      <th>0</th>\n",
       "      <td>101</td>\n",
       "      <td>101_waist</td>\n",
       "      <td>101_wrist</td>\n",
       "      <td>2018-01-18</td>\n",
       "      <td>1</td>\n",
       "      <td>101_video1</td>\n",
       "      <td>NaN</td>\n",
       "      <td>NaN</td>\n",
       "      <td>00:00:00</td>\n",
       "      <td>00:00:15</td>\n",
       "      <td>16:07:40</td>\n",
       "      <td>16:07:55</td>\n",
       "      <td>999</td>\n",
       "      <td>999</td>\n",
       "      <td>999</td>\n",
       "      <td>2018-01-18 16:07:40</td>\n",
       "      <td>2018-01-18 16:07:55</td>\n",
       "      <td>00:00:15</td>\n",
       "    </tr>\n",
       "    <tr>\n",
       "      <th>1</th>\n",
       "      <td>101</td>\n",
       "      <td>101_waist</td>\n",
       "      <td>101_wrist</td>\n",
       "      <td>2018-01-18</td>\n",
       "      <td>2</td>\n",
       "      <td>101_video1</td>\n",
       "      <td>16:10:28</td>\n",
       "      <td>16:10:21</td>\n",
       "      <td>00:00:50</td>\n",
       "      <td>00:00:56</td>\n",
       "      <td>16:11:11</td>\n",
       "      <td>16:11:17</td>\n",
       "      <td>1</td>\n",
       "      <td>10</td>\n",
       "      <td>102</td>\n",
       "      <td>2018-01-18 16:11:11</td>\n",
       "      <td>2018-01-18 16:11:17</td>\n",
       "      <td>00:00:06</td>\n",
       "    </tr>\n",
       "    <tr>\n",
       "      <th>2</th>\n",
       "      <td>101</td>\n",
       "      <td>101_waist</td>\n",
       "      <td>101_wrist</td>\n",
       "      <td>2018-01-18</td>\n",
       "      <td>3</td>\n",
       "      <td>101_video1</td>\n",
       "      <td>16:10:28</td>\n",
       "      <td>16:10:21</td>\n",
       "      <td>00:00:56</td>\n",
       "      <td>00:00:59</td>\n",
       "      <td>16:11:17</td>\n",
       "      <td>16:11:20</td>\n",
       "      <td>1</td>\n",
       "      <td>20</td>\n",
       "      <td>201</td>\n",
       "      <td>2018-01-18 16:11:17</td>\n",
       "      <td>2018-01-18 16:11:20</td>\n",
       "      <td>00:00:03</td>\n",
       "    </tr>\n",
       "    <tr>\n",
       "      <th>3</th>\n",
       "      <td>101</td>\n",
       "      <td>101_waist</td>\n",
       "      <td>101_wrist</td>\n",
       "      <td>2018-01-18</td>\n",
       "      <td>4</td>\n",
       "      <td>101_video1</td>\n",
       "      <td>16:10:28</td>\n",
       "      <td>16:10:21</td>\n",
       "      <td>00:00:59</td>\n",
       "      <td>00:01:01</td>\n",
       "      <td>16:11:20</td>\n",
       "      <td>16:11:22</td>\n",
       "      <td>1</td>\n",
       "      <td>10</td>\n",
       "      <td>102</td>\n",
       "      <td>2018-01-18 16:11:20</td>\n",
       "      <td>2018-01-18 16:11:22</td>\n",
       "      <td>00:00:02</td>\n",
       "    </tr>\n",
       "    <tr>\n",
       "      <th>4</th>\n",
       "      <td>101</td>\n",
       "      <td>101_waist</td>\n",
       "      <td>101_wrist</td>\n",
       "      <td>2018-01-18</td>\n",
       "      <td>5</td>\n",
       "      <td>101_video1</td>\n",
       "      <td>16:10:28</td>\n",
       "      <td>16:10:21</td>\n",
       "      <td>00:01:02</td>\n",
       "      <td>00:01:06</td>\n",
       "      <td>16:11:23</td>\n",
       "      <td>16:11:27</td>\n",
       "      <td>1</td>\n",
       "      <td>10</td>\n",
       "      <td>102</td>\n",
       "      <td>2018-01-18 16:11:23</td>\n",
       "      <td>2018-01-18 16:11:27</td>\n",
       "      <td>00:00:04</td>\n",
       "    </tr>\n",
       "  </tbody>\n",
       "</table>\n",
       "</div>"
      ],
      "text/plain": [
       "   ParticipantID Accel_Waist Accel_Wrist       Date  Sequence   VideoName  \\\n",
       "0            101   101_waist   101_wrist 2018-01-18         1  101_video1   \n",
       "1            101   101_waist   101_wrist 2018-01-18         2  101_video1   \n",
       "2            101   101_waist   101_wrist 2018-01-18         3  101_video1   \n",
       "3            101   101_waist   101_wrist 2018-01-18         4  101_video1   \n",
       "4            101   101_waist   101_wrist 2018-01-18         5  101_video1   \n",
       "\n",
       "  VideoStartClock_camera VideoStartClock_timeanddate StartRunTime EndRunTime  \\\n",
       "0                    NaN                         NaN     00:00:00   00:00:15   \n",
       "1               16:10:28                    16:10:21     00:00:50   00:00:56   \n",
       "2               16:10:28                    16:10:21     00:00:56   00:00:59   \n",
       "3               16:10:28                    16:10:21     00:00:59   00:01:01   \n",
       "4               16:10:28                    16:10:21     00:01:02   00:01:06   \n",
       "\n",
       "  StartClock  EndClock  ActivityLevel1  ActivityLevel2  ActivityLevel3  \\\n",
       "0   16:07:40  16:07:55             999             999             999   \n",
       "1   16:11:11  16:11:17               1              10             102   \n",
       "2   16:11:17  16:11:20               1              20             201   \n",
       "3   16:11:20  16:11:22               1              10             102   \n",
       "4   16:11:23  16:11:27               1              10             102   \n",
       "\n",
       "   DateStartTimeClock    DateEndTimeClock  timedelta  \n",
       "0 2018-01-18 16:07:40 2018-01-18 16:07:55   00:00:15  \n",
       "1 2018-01-18 16:11:11 2018-01-18 16:11:17   00:00:06  \n",
       "2 2018-01-18 16:11:17 2018-01-18 16:11:20   00:00:03  \n",
       "3 2018-01-18 16:11:20 2018-01-18 16:11:22   00:00:02  \n",
       "4 2018-01-18 16:11:23 2018-01-18 16:11:27   00:00:04  "
      ]
     },
     "execution_count": 32,
     "metadata": {},
     "output_type": "execute_result"
    }
   ],
   "source": [
    "annotation['timedelta'] = annotation['DateEndTimeClock'] - annotation['DateStartTimeClock']\n",
    "annotation.head()"
   ]
  },
  {
   "cell_type": "code",
   "execution_count": 33,
   "metadata": {},
   "outputs": [
    {
     "data": {
      "text/plain": [
       "(348, 18)"
      ]
     },
     "execution_count": 33,
     "metadata": {},
     "output_type": "execute_result"
    }
   ],
   "source": [
    "from datetime import timedelta\n",
    "t = timedelta(days=0,seconds=0,microseconds=0,milliseconds=0,minutes=0,hours=0,weeks=0)\n",
    "val = annotation.loc[annotation.timedelta < t]\n",
    "data = addvalues(val,data)\n",
    "data.shape"
   ]
  },
  {
   "cell_type": "code",
   "execution_count": 34,
   "metadata": {},
   "outputs": [
    {
     "data": {
      "text/plain": [
       "(349, 18)"
      ]
     },
     "execution_count": 34,
     "metadata": {},
     "output_type": "execute_result"
    }
   ],
   "source": [
    "from datetime import timedelta\n",
    "t = timedelta(days=0,seconds=0,microseconds=0,milliseconds=0,minutes=0,hours=1,weeks=0)\n",
    "val = annotation.loc[annotation.timedelta > t]\n",
    "data = addvalues(val,data)\n",
    "data.shape"
   ]
  },
  {
   "cell_type": "code",
   "execution_count": 35,
   "metadata": {},
   "outputs": [
    {
     "data": {
      "text/plain": [
       "(351, 18)"
      ]
     },
     "execution_count": 35,
     "metadata": {},
     "output_type": "execute_result"
    }
   ],
   "source": [
    "from datetime import timedelta\n",
    "t = timedelta(days=0,seconds=0,microseconds=0,milliseconds=0,minutes=5,hours=0,weeks=0)\n",
    "val = annotation.loc[annotation.timedelta > t]\n",
    "data = addvalues(val,data)\n",
    "data.shape"
   ]
  },
  {
   "cell_type": "code",
   "execution_count": 36,
   "metadata": {},
   "outputs": [],
   "source": [
    "import os\n",
    "# if file does not exist write header \n",
    "if not os.path.isfile('filename.csv'):\n",
    "   data.to_csv('filename.csv', header='column_names')\n",
    "else: # else it exists so append without writing the header\n",
    "   data.to_csv('filename.csv', mode='a', header=False)"
   ]
  },
  {
   "cell_type": "code",
   "execution_count": 37,
   "metadata": {},
   "outputs": [
    {
     "data": {
      "text/plain": [
       "(4294, 18)"
      ]
     },
     "execution_count": 37,
     "metadata": {},
     "output_type": "execute_result"
    }
   ],
   "source": [
    "annotation.shape"
   ]
  },
  {
   "cell_type": "code",
   "execution_count": 42,
   "metadata": {},
   "outputs": [],
   "source": [
    "annotation['ActivityLevel3'] = annotation['ActivityLevel3'].map({101:'run', 102:'walk', 103:'crawl', 104:'climbup', 105:'climbdown', 106:'ride a ride-on toy and move', 107:'bouncing up and down', 201:'stand still', 202:'stand and move', 203:'transtion from stand to walk', 204:'transition from walk to stand', 205:'transition from sit to stand', 206:'transition from stand to sit', 301:'sit', 302:'lie down', 303:'carried by an adult', 304:'ride a stroller/wagon', 305:'transition from lie down to sit', 306:'transition from sit to lie down', 307:'slide down slide'})\n"
   ]
  },
  {
   "cell_type": "code",
   "execution_count": 43,
   "metadata": {},
   "outputs": [],
   "source": [
    "data = annotation.groupby(['ParticipantID','ActivityLevel3'])['ParticipantID'].count()"
   ]
  },
  {
   "cell_type": "code",
   "execution_count": 44,
   "metadata": {},
   "outputs": [],
   "source": [
    "data = data.unstack()"
   ]
  },
  {
   "cell_type": "code",
   "execution_count": 45,
   "metadata": {},
   "outputs": [
    {
     "data": {
      "text/html": [
       "<div>\n",
       "<table border=\"1\" class=\"dataframe\">\n",
       "  <thead>\n",
       "    <tr style=\"text-align: right;\">\n",
       "      <th>ActivityLevel3</th>\n",
       "      <th>bouncing up and down</th>\n",
       "      <th>carried by an adult</th>\n",
       "      <th>climbdown</th>\n",
       "      <th>climbup</th>\n",
       "      <th>crawl</th>\n",
       "      <th>lie down</th>\n",
       "      <th>ride a ride-on toy and move</th>\n",
       "      <th>ride a stroller/wagon</th>\n",
       "      <th>run</th>\n",
       "      <th>sit</th>\n",
       "      <th>slide down slide</th>\n",
       "      <th>stand and move</th>\n",
       "      <th>stand still</th>\n",
       "      <th>transition from lie down to sit</th>\n",
       "      <th>transition from sit to lie down</th>\n",
       "      <th>transition from sit to stand</th>\n",
       "      <th>transition from stand to sit</th>\n",
       "      <th>transition from walk to stand</th>\n",
       "      <th>transtion from stand to walk</th>\n",
       "      <th>walk</th>\n",
       "    </tr>\n",
       "    <tr>\n",
       "      <th>ParticipantID</th>\n",
       "      <th></th>\n",
       "      <th></th>\n",
       "      <th></th>\n",
       "      <th></th>\n",
       "      <th></th>\n",
       "      <th></th>\n",
       "      <th></th>\n",
       "      <th></th>\n",
       "      <th></th>\n",
       "      <th></th>\n",
       "      <th></th>\n",
       "      <th></th>\n",
       "      <th></th>\n",
       "      <th></th>\n",
       "      <th></th>\n",
       "      <th></th>\n",
       "      <th></th>\n",
       "      <th></th>\n",
       "      <th></th>\n",
       "      <th></th>\n",
       "    </tr>\n",
       "  </thead>\n",
       "  <tbody>\n",
       "    <tr>\n",
       "      <th>101</th>\n",
       "      <td>NaN</td>\n",
       "      <td>7</td>\n",
       "      <td>1</td>\n",
       "      <td>12</td>\n",
       "      <td>3</td>\n",
       "      <td>4</td>\n",
       "      <td>NaN</td>\n",
       "      <td>4</td>\n",
       "      <td>3</td>\n",
       "      <td>13</td>\n",
       "      <td>2</td>\n",
       "      <td>27</td>\n",
       "      <td>27</td>\n",
       "      <td>4</td>\n",
       "      <td>3</td>\n",
       "      <td>15</td>\n",
       "      <td>7</td>\n",
       "      <td>5</td>\n",
       "      <td>24</td>\n",
       "      <td>72</td>\n",
       "    </tr>\n",
       "    <tr>\n",
       "      <th>102</th>\n",
       "      <td>NaN</td>\n",
       "      <td>11</td>\n",
       "      <td>2</td>\n",
       "      <td>4</td>\n",
       "      <td>4</td>\n",
       "      <td>3</td>\n",
       "      <td>2</td>\n",
       "      <td>1</td>\n",
       "      <td>9</td>\n",
       "      <td>10</td>\n",
       "      <td>2</td>\n",
       "      <td>54</td>\n",
       "      <td>36</td>\n",
       "      <td>2</td>\n",
       "      <td>1</td>\n",
       "      <td>5</td>\n",
       "      <td>4</td>\n",
       "      <td>4</td>\n",
       "      <td>26</td>\n",
       "      <td>71</td>\n",
       "    </tr>\n",
       "    <tr>\n",
       "      <th>103</th>\n",
       "      <td>NaN</td>\n",
       "      <td>6</td>\n",
       "      <td>6</td>\n",
       "      <td>5</td>\n",
       "      <td>7</td>\n",
       "      <td>3</td>\n",
       "      <td>2</td>\n",
       "      <td>2</td>\n",
       "      <td>NaN</td>\n",
       "      <td>15</td>\n",
       "      <td>NaN</td>\n",
       "      <td>65</td>\n",
       "      <td>39</td>\n",
       "      <td>2</td>\n",
       "      <td>2</td>\n",
       "      <td>13</td>\n",
       "      <td>8</td>\n",
       "      <td>10</td>\n",
       "      <td>21</td>\n",
       "      <td>52</td>\n",
       "    </tr>\n",
       "    <tr>\n",
       "      <th>104</th>\n",
       "      <td>1</td>\n",
       "      <td>5</td>\n",
       "      <td>2</td>\n",
       "      <td>3</td>\n",
       "      <td>3</td>\n",
       "      <td>1</td>\n",
       "      <td>3</td>\n",
       "      <td>1</td>\n",
       "      <td>7</td>\n",
       "      <td>9</td>\n",
       "      <td>NaN</td>\n",
       "      <td>22</td>\n",
       "      <td>10</td>\n",
       "      <td>1</td>\n",
       "      <td>2</td>\n",
       "      <td>3</td>\n",
       "      <td>2</td>\n",
       "      <td>3</td>\n",
       "      <td>6</td>\n",
       "      <td>33</td>\n",
       "    </tr>\n",
       "    <tr>\n",
       "      <th>105</th>\n",
       "      <td>1</td>\n",
       "      <td>8</td>\n",
       "      <td>3</td>\n",
       "      <td>9</td>\n",
       "      <td>2</td>\n",
       "      <td>2</td>\n",
       "      <td>2</td>\n",
       "      <td>3</td>\n",
       "      <td>3</td>\n",
       "      <td>18</td>\n",
       "      <td>4</td>\n",
       "      <td>62</td>\n",
       "      <td>37</td>\n",
       "      <td>NaN</td>\n",
       "      <td>1</td>\n",
       "      <td>8</td>\n",
       "      <td>4</td>\n",
       "      <td>15</td>\n",
       "      <td>37</td>\n",
       "      <td>78</td>\n",
       "    </tr>\n",
       "    <tr>\n",
       "      <th>106</th>\n",
       "      <td>NaN</td>\n",
       "      <td>18</td>\n",
       "      <td>3</td>\n",
       "      <td>5</td>\n",
       "      <td>6</td>\n",
       "      <td>2</td>\n",
       "      <td>1</td>\n",
       "      <td>2</td>\n",
       "      <td>NaN</td>\n",
       "      <td>17</td>\n",
       "      <td>NaN</td>\n",
       "      <td>64</td>\n",
       "      <td>43</td>\n",
       "      <td>2</td>\n",
       "      <td>3</td>\n",
       "      <td>9</td>\n",
       "      <td>7</td>\n",
       "      <td>11</td>\n",
       "      <td>9</td>\n",
       "      <td>45</td>\n",
       "    </tr>\n",
       "    <tr>\n",
       "      <th>107</th>\n",
       "      <td>NaN</td>\n",
       "      <td>15</td>\n",
       "      <td>NaN</td>\n",
       "      <td>5</td>\n",
       "      <td>1</td>\n",
       "      <td>3</td>\n",
       "      <td>8</td>\n",
       "      <td>4</td>\n",
       "      <td>NaN</td>\n",
       "      <td>24</td>\n",
       "      <td>2</td>\n",
       "      <td>27</td>\n",
       "      <td>19</td>\n",
       "      <td>4</td>\n",
       "      <td>1</td>\n",
       "      <td>11</td>\n",
       "      <td>6</td>\n",
       "      <td>5</td>\n",
       "      <td>9</td>\n",
       "      <td>19</td>\n",
       "    </tr>\n",
       "    <tr>\n",
       "      <th>108</th>\n",
       "      <td>NaN</td>\n",
       "      <td>10</td>\n",
       "      <td>2</td>\n",
       "      <td>2</td>\n",
       "      <td>7</td>\n",
       "      <td>3</td>\n",
       "      <td>1</td>\n",
       "      <td>3</td>\n",
       "      <td>11</td>\n",
       "      <td>25</td>\n",
       "      <td>NaN</td>\n",
       "      <td>52</td>\n",
       "      <td>21</td>\n",
       "      <td>5</td>\n",
       "      <td>3</td>\n",
       "      <td>24</td>\n",
       "      <td>8</td>\n",
       "      <td>17</td>\n",
       "      <td>30</td>\n",
       "      <td>52</td>\n",
       "    </tr>\n",
       "    <tr>\n",
       "      <th>109</th>\n",
       "      <td>NaN</td>\n",
       "      <td>17</td>\n",
       "      <td>2</td>\n",
       "      <td>3</td>\n",
       "      <td>5</td>\n",
       "      <td>4</td>\n",
       "      <td>6</td>\n",
       "      <td>2</td>\n",
       "      <td>NaN</td>\n",
       "      <td>13</td>\n",
       "      <td>1</td>\n",
       "      <td>50</td>\n",
       "      <td>32</td>\n",
       "      <td>3</td>\n",
       "      <td>1</td>\n",
       "      <td>14</td>\n",
       "      <td>8</td>\n",
       "      <td>20</td>\n",
       "      <td>39</td>\n",
       "      <td>53</td>\n",
       "    </tr>\n",
       "    <tr>\n",
       "      <th>110</th>\n",
       "      <td>NaN</td>\n",
       "      <td>1</td>\n",
       "      <td>NaN</td>\n",
       "      <td>3</td>\n",
       "      <td>5</td>\n",
       "      <td>2</td>\n",
       "      <td>3</td>\n",
       "      <td>1</td>\n",
       "      <td>1</td>\n",
       "      <td>6</td>\n",
       "      <td>1</td>\n",
       "      <td>35</td>\n",
       "      <td>27</td>\n",
       "      <td>2</td>\n",
       "      <td>2</td>\n",
       "      <td>9</td>\n",
       "      <td>8</td>\n",
       "      <td>9</td>\n",
       "      <td>20</td>\n",
       "      <td>36</td>\n",
       "    </tr>\n",
       "    <tr>\n",
       "      <th>111</th>\n",
       "      <td>NaN</td>\n",
       "      <td>6</td>\n",
       "      <td>NaN</td>\n",
       "      <td>4</td>\n",
       "      <td>1</td>\n",
       "      <td>1</td>\n",
       "      <td>2</td>\n",
       "      <td>1</td>\n",
       "      <td>2</td>\n",
       "      <td>8</td>\n",
       "      <td>2</td>\n",
       "      <td>32</td>\n",
       "      <td>32</td>\n",
       "      <td>1</td>\n",
       "      <td>1</td>\n",
       "      <td>13</td>\n",
       "      <td>9</td>\n",
       "      <td>8</td>\n",
       "      <td>17</td>\n",
       "      <td>33</td>\n",
       "    </tr>\n",
       "    <tr>\n",
       "      <th>112</th>\n",
       "      <td>NaN</td>\n",
       "      <td>1</td>\n",
       "      <td>NaN</td>\n",
       "      <td>4</td>\n",
       "      <td>6</td>\n",
       "      <td>2</td>\n",
       "      <td>3</td>\n",
       "      <td>2</td>\n",
       "      <td>3</td>\n",
       "      <td>18</td>\n",
       "      <td>4</td>\n",
       "      <td>23</td>\n",
       "      <td>12</td>\n",
       "      <td>2</td>\n",
       "      <td>2</td>\n",
       "      <td>17</td>\n",
       "      <td>15</td>\n",
       "      <td>16</td>\n",
       "      <td>24</td>\n",
       "      <td>30</td>\n",
       "    </tr>\n",
       "    <tr>\n",
       "      <th>113</th>\n",
       "      <td>4</td>\n",
       "      <td>8</td>\n",
       "      <td>3</td>\n",
       "      <td>4</td>\n",
       "      <td>3</td>\n",
       "      <td>1</td>\n",
       "      <td>7</td>\n",
       "      <td>1</td>\n",
       "      <td>5</td>\n",
       "      <td>22</td>\n",
       "      <td>1</td>\n",
       "      <td>57</td>\n",
       "      <td>18</td>\n",
       "      <td>1</td>\n",
       "      <td>NaN</td>\n",
       "      <td>15</td>\n",
       "      <td>11</td>\n",
       "      <td>25</td>\n",
       "      <td>46</td>\n",
       "      <td>41</td>\n",
       "    </tr>\n",
       "    <tr>\n",
       "      <th>114</th>\n",
       "      <td>2</td>\n",
       "      <td>NaN</td>\n",
       "      <td>NaN</td>\n",
       "      <td>NaN</td>\n",
       "      <td>NaN</td>\n",
       "      <td>NaN</td>\n",
       "      <td>NaN</td>\n",
       "      <td>NaN</td>\n",
       "      <td>3</td>\n",
       "      <td>6</td>\n",
       "      <td>NaN</td>\n",
       "      <td>31</td>\n",
       "      <td>17</td>\n",
       "      <td>NaN</td>\n",
       "      <td>NaN</td>\n",
       "      <td>7</td>\n",
       "      <td>7</td>\n",
       "      <td>26</td>\n",
       "      <td>34</td>\n",
       "      <td>27</td>\n",
       "    </tr>\n",
       "    <tr>\n",
       "      <th>115</th>\n",
       "      <td>NaN</td>\n",
       "      <td>1</td>\n",
       "      <td>3</td>\n",
       "      <td>5</td>\n",
       "      <td>9</td>\n",
       "      <td>2</td>\n",
       "      <td>4</td>\n",
       "      <td>3</td>\n",
       "      <td>7</td>\n",
       "      <td>16</td>\n",
       "      <td>NaN</td>\n",
       "      <td>18</td>\n",
       "      <td>21</td>\n",
       "      <td>2</td>\n",
       "      <td>2</td>\n",
       "      <td>11</td>\n",
       "      <td>5</td>\n",
       "      <td>3</td>\n",
       "      <td>11</td>\n",
       "      <td>28</td>\n",
       "    </tr>\n",
       "    <tr>\n",
       "      <th>116</th>\n",
       "      <td>2</td>\n",
       "      <td>4</td>\n",
       "      <td>3</td>\n",
       "      <td>8</td>\n",
       "      <td>NaN</td>\n",
       "      <td>NaN</td>\n",
       "      <td>4</td>\n",
       "      <td>1</td>\n",
       "      <td>2</td>\n",
       "      <td>10</td>\n",
       "      <td>4</td>\n",
       "      <td>41</td>\n",
       "      <td>13</td>\n",
       "      <td>NaN</td>\n",
       "      <td>NaN</td>\n",
       "      <td>7</td>\n",
       "      <td>6</td>\n",
       "      <td>3</td>\n",
       "      <td>22</td>\n",
       "      <td>42</td>\n",
       "    </tr>\n",
       "    <tr>\n",
       "      <th>117</th>\n",
       "      <td>NaN</td>\n",
       "      <td>8</td>\n",
       "      <td>NaN</td>\n",
       "      <td>1</td>\n",
       "      <td>NaN</td>\n",
       "      <td>2</td>\n",
       "      <td>1</td>\n",
       "      <td>1</td>\n",
       "      <td>1</td>\n",
       "      <td>3</td>\n",
       "      <td>NaN</td>\n",
       "      <td>14</td>\n",
       "      <td>8</td>\n",
       "      <td>NaN</td>\n",
       "      <td>1</td>\n",
       "      <td>1</td>\n",
       "      <td>1</td>\n",
       "      <td>8</td>\n",
       "      <td>7</td>\n",
       "      <td>11</td>\n",
       "    </tr>\n",
       "    <tr>\n",
       "      <th>118</th>\n",
       "      <td>NaN</td>\n",
       "      <td>1</td>\n",
       "      <td>NaN</td>\n",
       "      <td>2</td>\n",
       "      <td>3</td>\n",
       "      <td>1</td>\n",
       "      <td>2</td>\n",
       "      <td>1</td>\n",
       "      <td>2</td>\n",
       "      <td>6</td>\n",
       "      <td>2</td>\n",
       "      <td>19</td>\n",
       "      <td>10</td>\n",
       "      <td>1</td>\n",
       "      <td>1</td>\n",
       "      <td>6</td>\n",
       "      <td>4</td>\n",
       "      <td>8</td>\n",
       "      <td>7</td>\n",
       "      <td>17</td>\n",
       "    </tr>\n",
       "    <tr>\n",
       "      <th>119</th>\n",
       "      <td>NaN</td>\n",
       "      <td>3</td>\n",
       "      <td>NaN</td>\n",
       "      <td>5</td>\n",
       "      <td>1</td>\n",
       "      <td>1</td>\n",
       "      <td>3</td>\n",
       "      <td>3</td>\n",
       "      <td>2</td>\n",
       "      <td>12</td>\n",
       "      <td>2</td>\n",
       "      <td>12</td>\n",
       "      <td>6</td>\n",
       "      <td>1</td>\n",
       "      <td>NaN</td>\n",
       "      <td>8</td>\n",
       "      <td>2</td>\n",
       "      <td>4</td>\n",
       "      <td>8</td>\n",
       "      <td>13</td>\n",
       "    </tr>\n",
       "    <tr>\n",
       "      <th>120</th>\n",
       "      <td>NaN</td>\n",
       "      <td>2</td>\n",
       "      <td>NaN</td>\n",
       "      <td>1</td>\n",
       "      <td>2</td>\n",
       "      <td>1</td>\n",
       "      <td>1</td>\n",
       "      <td>1</td>\n",
       "      <td>1</td>\n",
       "      <td>6</td>\n",
       "      <td>1</td>\n",
       "      <td>8</td>\n",
       "      <td>5</td>\n",
       "      <td>1</td>\n",
       "      <td>NaN</td>\n",
       "      <td>5</td>\n",
       "      <td>6</td>\n",
       "      <td>5</td>\n",
       "      <td>7</td>\n",
       "      <td>12</td>\n",
       "    </tr>\n",
       "    <tr>\n",
       "      <th>121</th>\n",
       "      <td>3</td>\n",
       "      <td>4</td>\n",
       "      <td>1</td>\n",
       "      <td>4</td>\n",
       "      <td>1</td>\n",
       "      <td>2</td>\n",
       "      <td>5</td>\n",
       "      <td>3</td>\n",
       "      <td>5</td>\n",
       "      <td>17</td>\n",
       "      <td>1</td>\n",
       "      <td>31</td>\n",
       "      <td>16</td>\n",
       "      <td>3</td>\n",
       "      <td>1</td>\n",
       "      <td>11</td>\n",
       "      <td>7</td>\n",
       "      <td>1</td>\n",
       "      <td>16</td>\n",
       "      <td>25</td>\n",
       "    </tr>\n",
       "    <tr>\n",
       "      <th>122</th>\n",
       "      <td>NaN</td>\n",
       "      <td>6</td>\n",
       "      <td>NaN</td>\n",
       "      <td>3</td>\n",
       "      <td>1</td>\n",
       "      <td>4</td>\n",
       "      <td>6</td>\n",
       "      <td>2</td>\n",
       "      <td>2</td>\n",
       "      <td>16</td>\n",
       "      <td>2</td>\n",
       "      <td>22</td>\n",
       "      <td>7</td>\n",
       "      <td>4</td>\n",
       "      <td>4</td>\n",
       "      <td>14</td>\n",
       "      <td>11</td>\n",
       "      <td>4</td>\n",
       "      <td>10</td>\n",
       "      <td>30</td>\n",
       "    </tr>\n",
       "    <tr>\n",
       "      <th>123</th>\n",
       "      <td>NaN</td>\n",
       "      <td>1</td>\n",
       "      <td>NaN</td>\n",
       "      <td>1</td>\n",
       "      <td>1</td>\n",
       "      <td>1</td>\n",
       "      <td>5</td>\n",
       "      <td>1</td>\n",
       "      <td>3</td>\n",
       "      <td>8</td>\n",
       "      <td>1</td>\n",
       "      <td>9</td>\n",
       "      <td>6</td>\n",
       "      <td>NaN</td>\n",
       "      <td>1</td>\n",
       "      <td>4</td>\n",
       "      <td>5</td>\n",
       "      <td>5</td>\n",
       "      <td>7</td>\n",
       "      <td>8</td>\n",
       "    </tr>\n",
       "    <tr>\n",
       "      <th>124</th>\n",
       "      <td>NaN</td>\n",
       "      <td>2</td>\n",
       "      <td>NaN</td>\n",
       "      <td>6</td>\n",
       "      <td>NaN</td>\n",
       "      <td>1</td>\n",
       "      <td>1</td>\n",
       "      <td>2</td>\n",
       "      <td>3</td>\n",
       "      <td>4</td>\n",
       "      <td>4</td>\n",
       "      <td>16</td>\n",
       "      <td>5</td>\n",
       "      <td>1</td>\n",
       "      <td>NaN</td>\n",
       "      <td>5</td>\n",
       "      <td>5</td>\n",
       "      <td>3</td>\n",
       "      <td>8</td>\n",
       "      <td>9</td>\n",
       "    </tr>\n",
       "  </tbody>\n",
       "</table>\n",
       "</div>"
      ],
      "text/plain": [
       "ActivityLevel3  bouncing up and down  carried by an adult  climbdown  climbup  \\\n",
       "ParticipantID                                                                   \n",
       "101                              NaN                    7          1       12   \n",
       "102                              NaN                   11          2        4   \n",
       "103                              NaN                    6          6        5   \n",
       "104                                1                    5          2        3   \n",
       "105                                1                    8          3        9   \n",
       "106                              NaN                   18          3        5   \n",
       "107                              NaN                   15        NaN        5   \n",
       "108                              NaN                   10          2        2   \n",
       "109                              NaN                   17          2        3   \n",
       "110                              NaN                    1        NaN        3   \n",
       "111                              NaN                    6        NaN        4   \n",
       "112                              NaN                    1        NaN        4   \n",
       "113                                4                    8          3        4   \n",
       "114                                2                  NaN        NaN      NaN   \n",
       "115                              NaN                    1          3        5   \n",
       "116                                2                    4          3        8   \n",
       "117                              NaN                    8        NaN        1   \n",
       "118                              NaN                    1        NaN        2   \n",
       "119                              NaN                    3        NaN        5   \n",
       "120                              NaN                    2        NaN        1   \n",
       "121                                3                    4          1        4   \n",
       "122                              NaN                    6        NaN        3   \n",
       "123                              NaN                    1        NaN        1   \n",
       "124                              NaN                    2        NaN        6   \n",
       "\n",
       "ActivityLevel3  crawl  lie down  ride a ride-on toy and move  \\\n",
       "ParticipantID                                                  \n",
       "101                 3         4                          NaN   \n",
       "102                 4         3                            2   \n",
       "103                 7         3                            2   \n",
       "104                 3         1                            3   \n",
       "105                 2         2                            2   \n",
       "106                 6         2                            1   \n",
       "107                 1         3                            8   \n",
       "108                 7         3                            1   \n",
       "109                 5         4                            6   \n",
       "110                 5         2                            3   \n",
       "111                 1         1                            2   \n",
       "112                 6         2                            3   \n",
       "113                 3         1                            7   \n",
       "114               NaN       NaN                          NaN   \n",
       "115                 9         2                            4   \n",
       "116               NaN       NaN                            4   \n",
       "117               NaN         2                            1   \n",
       "118                 3         1                            2   \n",
       "119                 1         1                            3   \n",
       "120                 2         1                            1   \n",
       "121                 1         2                            5   \n",
       "122                 1         4                            6   \n",
       "123                 1         1                            5   \n",
       "124               NaN         1                            1   \n",
       "\n",
       "ActivityLevel3  ride a stroller/wagon  run  sit  slide down slide  \\\n",
       "ParticipantID                                                       \n",
       "101                                 4    3   13                 2   \n",
       "102                                 1    9   10                 2   \n",
       "103                                 2  NaN   15               NaN   \n",
       "104                                 1    7    9               NaN   \n",
       "105                                 3    3   18                 4   \n",
       "106                                 2  NaN   17               NaN   \n",
       "107                                 4  NaN   24                 2   \n",
       "108                                 3   11   25               NaN   \n",
       "109                                 2  NaN   13                 1   \n",
       "110                                 1    1    6                 1   \n",
       "111                                 1    2    8                 2   \n",
       "112                                 2    3   18                 4   \n",
       "113                                 1    5   22                 1   \n",
       "114                               NaN    3    6               NaN   \n",
       "115                                 3    7   16               NaN   \n",
       "116                                 1    2   10                 4   \n",
       "117                                 1    1    3               NaN   \n",
       "118                                 1    2    6                 2   \n",
       "119                                 3    2   12                 2   \n",
       "120                                 1    1    6                 1   \n",
       "121                                 3    5   17                 1   \n",
       "122                                 2    2   16                 2   \n",
       "123                                 1    3    8                 1   \n",
       "124                                 2    3    4                 4   \n",
       "\n",
       "ActivityLevel3  stand and move  stand still  transition from lie down to sit  \\\n",
       "ParticipantID                                                                  \n",
       "101                         27           27                                4   \n",
       "102                         54           36                                2   \n",
       "103                         65           39                                2   \n",
       "104                         22           10                                1   \n",
       "105                         62           37                              NaN   \n",
       "106                         64           43                                2   \n",
       "107                         27           19                                4   \n",
       "108                         52           21                                5   \n",
       "109                         50           32                                3   \n",
       "110                         35           27                                2   \n",
       "111                         32           32                                1   \n",
       "112                         23           12                                2   \n",
       "113                         57           18                                1   \n",
       "114                         31           17                              NaN   \n",
       "115                         18           21                                2   \n",
       "116                         41           13                              NaN   \n",
       "117                         14            8                              NaN   \n",
       "118                         19           10                                1   \n",
       "119                         12            6                                1   \n",
       "120                          8            5                                1   \n",
       "121                         31           16                                3   \n",
       "122                         22            7                                4   \n",
       "123                          9            6                              NaN   \n",
       "124                         16            5                                1   \n",
       "\n",
       "ActivityLevel3  transition from sit to lie down  transition from sit to stand  \\\n",
       "ParticipantID                                                                   \n",
       "101                                           3                            15   \n",
       "102                                           1                             5   \n",
       "103                                           2                            13   \n",
       "104                                           2                             3   \n",
       "105                                           1                             8   \n",
       "106                                           3                             9   \n",
       "107                                           1                            11   \n",
       "108                                           3                            24   \n",
       "109                                           1                            14   \n",
       "110                                           2                             9   \n",
       "111                                           1                            13   \n",
       "112                                           2                            17   \n",
       "113                                         NaN                            15   \n",
       "114                                         NaN                             7   \n",
       "115                                           2                            11   \n",
       "116                                         NaN                             7   \n",
       "117                                           1                             1   \n",
       "118                                           1                             6   \n",
       "119                                         NaN                             8   \n",
       "120                                         NaN                             5   \n",
       "121                                           1                            11   \n",
       "122                                           4                            14   \n",
       "123                                           1                             4   \n",
       "124                                         NaN                             5   \n",
       "\n",
       "ActivityLevel3  transition from stand to sit  transition from walk to stand  \\\n",
       "ParticipantID                                                                 \n",
       "101                                        7                              5   \n",
       "102                                        4                              4   \n",
       "103                                        8                             10   \n",
       "104                                        2                              3   \n",
       "105                                        4                             15   \n",
       "106                                        7                             11   \n",
       "107                                        6                              5   \n",
       "108                                        8                             17   \n",
       "109                                        8                             20   \n",
       "110                                        8                              9   \n",
       "111                                        9                              8   \n",
       "112                                       15                             16   \n",
       "113                                       11                             25   \n",
       "114                                        7                             26   \n",
       "115                                        5                              3   \n",
       "116                                        6                              3   \n",
       "117                                        1                              8   \n",
       "118                                        4                              8   \n",
       "119                                        2                              4   \n",
       "120                                        6                              5   \n",
       "121                                        7                              1   \n",
       "122                                       11                              4   \n",
       "123                                        5                              5   \n",
       "124                                        5                              3   \n",
       "\n",
       "ActivityLevel3  transtion from stand to walk  walk  \n",
       "ParticipantID                                       \n",
       "101                                       24    72  \n",
       "102                                       26    71  \n",
       "103                                       21    52  \n",
       "104                                        6    33  \n",
       "105                                       37    78  \n",
       "106                                        9    45  \n",
       "107                                        9    19  \n",
       "108                                       30    52  \n",
       "109                                       39    53  \n",
       "110                                       20    36  \n",
       "111                                       17    33  \n",
       "112                                       24    30  \n",
       "113                                       46    41  \n",
       "114                                       34    27  \n",
       "115                                       11    28  \n",
       "116                                       22    42  \n",
       "117                                        7    11  \n",
       "118                                        7    17  \n",
       "119                                        8    13  \n",
       "120                                        7    12  \n",
       "121                                       16    25  \n",
       "122                                       10    30  \n",
       "123                                        7     8  \n",
       "124                                        8     9  "
      ]
     },
     "execution_count": 45,
     "metadata": {},
     "output_type": "execute_result"
    }
   ],
   "source": [
    "data"
   ]
  },
  {
   "cell_type": "code",
   "execution_count": 46,
   "metadata": {},
   "outputs": [],
   "source": [
    "import os\n",
    "# if file does not exist write header \n",
    "if not os.path.isfile('rawannotationactivity.csv'):\n",
    "   data.to_csv('rawannotationactivity.csv', header='column_names')\n",
    "else: # else it exists so append without writing the header\n",
    "   data.to_csv('rawannotationactivity.csv', mode='a', header=False)"
   ]
  },
  {
   "cell_type": "code",
   "execution_count": null,
   "metadata": {},
   "outputs": [],
   "source": []
  }
 ],
 "metadata": {
  "kernelspec": {
   "display_name": "Python 3",
   "language": "python",
   "name": "python3"
  },
  "language_info": {
   "codemirror_mode": {
    "name": "ipython",
    "version": 3
   },
   "file_extension": ".py",
   "mimetype": "text/x-python",
   "name": "python",
   "nbconvert_exporter": "python",
   "pygments_lexer": "ipython3",
   "version": "3.5.2"
  }
 },
 "nbformat": 4,
 "nbformat_minor": 2
}
